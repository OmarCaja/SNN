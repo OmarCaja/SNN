{
 "cells": [
  {
   "cell_type": "markdown",
   "metadata": {
    "pycharm": {
     "name": "#%% md\n"
    }
   },
   "source": [
    "# Simple Neural Network.\n",
    "\n",
    "Simple neural network es una librería escrita en python con fines didácticos.\n",
    "\n",
    "En esta se encuentran implementados 3 tipos de sistemas neuronales como son:\n",
    "\n",
    "* Clasificador binario.\n",
    "* Clasificador multicalse.\n",
    "* Redes neuronales multicapa.\n",
    "\n",
    "Este notebook tiene como objetivo presentar la forma en la que están programados cada uno de los elementos de esta librería.\n",
    "\n",
    "Se hará referencia a la ubicación de cada uno de los elementos dentro de la estructura de la librería de la siguiente forma: `simple_neural_network/package(s)/file.py`.\n",
    "Siendo `simple_neural_network` la raíz de la librería.\n"
   ]
  },
  {
   "cell_type": "markdown",
   "metadata": {},
   "source": [
    "## Dependencias.\n",
    "\n",
    "Definiremos en primer lugar las dependencias necesarias para poder utilizar esta liibrería y haremos distinción entre las que ya vienen por defecto con python y las que hay que descargar de forma explícita.\n",
    "\n",
    "* Paquetes de python:\n",
    "    * `csv`: dedicado a la lectura de datos desde ficheros csv.\n",
    "    * `pickle`: utilizado para guardar y cargas los sistemas neuronales en disco y poder reutilizarlos.\n",
    "    * `enum`: utilizado para la definición de enums, como por ejemplo los tipos de funciones de adtivación. De esta forma es más cómodo seleccionar una función u otra sin cometer errores, otra librerías utilizan strings.\n",
    "\n",
    "* Paquetes externos:\n",
    "    * `matplotlib`: utiliada para reprsentar información de forma gráfica.\n",
    "    * `numpy`: utilizada para trabajar con matrices y poder realizar operaciones con estas de una forma más cómda y eficiente."
   ]
  },
  {
   "cell_type": "code",
   "execution_count": 1,
   "metadata": {
    "pycharm": {
     "name": "#%%\n"
    }
   },
   "outputs": [],
   "source": [
    "import csv\n",
    "import pickle\n",
    "from enum import Enum\n",
    "\n",
    "import matplotlib.pyplot as plt\n",
    "import numpy as np\n"
   ]
  },
  {
   "cell_type": "markdown",
   "metadata": {},
   "source": [
    "## Constantes.\n",
    "\n",
    "Ubicación: `simple_neural_network/constants/constants.py`\n",
    "\n",
    "Se crea este archivo para un manejo más sencillo y localizado de los valores constantes de los elementos que componen la librería.\n"
   ]
  },
  {
   "cell_type": "code",
   "execution_count": 2,
   "metadata": {
    "pycharm": {
     "name": "#%%\n"
    }
   },
   "outputs": [],
   "source": [
    "# Utilities\n",
    "OBJECTS_SAVED_EXTENSION = '.snn'\n",
    "\n",
    "# Logs\n",
    "ERROR_RATE = 'Epoch {epoch}: {misclassified_samples} misclassified samples out of {samples} ' \\\n",
    "             '-> error rate = {error_rate:.2f}'\n",
    "\n",
    "# Activation functions\n",
    "ACTIVATION_FUNCTIONS = dict(STEP_FUNCTION_VALUE=0)\n",
    "\n",
    "# Binary classifier\n",
    "BINARY_CLASSIFIER = dict(LEARNING_RATE_DEFAULT_VALUE=1, MAX_EPOCHS_DEFAULT_VALUE=10)\n",
    "\n",
    "# Multiclass classifier\n",
    "MULTICLASS_CLASSIFIER = dict(LEARNING_RATE_DEFAULT_VALUE=1, MAX_EPOCHS_DEFAULT_VALUE=10)\n",
    "\n",
    "# Multilayer neural network\n",
    "MULTILAYER_NEURAL_NETWORK = dict(LEARNING_RATE_DEFAULT_VALUE=0.1, MAX_EPOCHS_DEFAULT_VALUE=20,\n",
    "                                 NEURON_DIMENSION=0, NEURON_ACTIVATION_FUNCTION=1)\n"
   ]
  },
  {
   "cell_type": "markdown",
   "metadata": {},
   "source": [
    "## Utilidades.\n",
    "### Lectura de datos desde archivos CSV.\n",
    "\n",
    "Ubicación: `simple_neural_network/utilities/data_loader/csv_data_loader.py`\n",
    "\n",
    "Una de las utilidades de la librería es un módulo para la lectura de datos desde archivos `.csv`, ya que estos achivos son muy comunes para la representación de sets de datos.\n",
    "\n",
    "Se puede observar como se dispone de dos métodos públicos estáticos capaces de generar un array de numpy tanto para datos como para etiquetas. Siendo el tipo de datos de `np.double` y `np.intc` respectivamente.\n",
    "Este array que devuelve cada método se generea a partir de los datos del archivo csv que se pasa como parámetro. Además de la ruta del archivo `.csv` que contiene los datos se deben intriducir dos parámetros más,\n",
    "el delimitador utulizado para separar los datos y si queremos omitir la primera línea del archivo, ya que en muchos casos esta primera línea se trata de la cabecera de los mismos.\n",
    "\n",
    "* Funciones:\n",
    "    * `__load_data(path_to_csv_file, delimiter, discard_first_row)`: función privada encargada de leer el archivo `.csv` pasado como parámetro y devolver un lista de datos.\n",
    "    * `load_samples(path_to_csv_file, delimiter, discard_first_row)`: función cabecera que realiza una llamada a `__load_data(path_to_csv_file, delimiter, discard_first_row)` para cargar los datos de las muestras y\n",
    "    devolverlos en una lista de tipo `np.double`.\n",
    "    * `load_labels(path_to_csv_file, delimiter, discard_first_row)`: función cabecera que realiza una llamada a `__load_data(path_to_csv_file, delimiter, discard_first_row)` para cargar los datos de las etiquetas y\n",
    "    devolverlos en una lista de tipo `np.intc`.\n",
    "\n",
    "    Parámetros:\n",
    "        * `path_to_csv_file`: ruta al archivo `.csv` que se desea leer.\n",
    "        * `delimiter`: caracter delimitador utilizado para separar los valores de los datos en el fichero `.csv`, usualmente son: `,` o `;`.\n",
    "        * `discard_first_row`: booleano que indica si deseamos descartar o no la primera fila del archivo.\n",
    "\n",
    "\n",
    "Las dimensiones del array de datos será NxM, siendo N el número de filas y M el número de columnas del archivo `.csv`.\n",
    "Y Nx1 para el array de etiquetas.\n",
    "\n",
    "Nótese como se elimina la primera línea del archivo `.csv`, ya que contiene la descripción de las columnas.\n",
    "\n",
    "Ejemplo de uso:\n",
    "\n",
    "`samples.csv`\n",
    "```\n",
    "# sepal_length, # petal_length\n",
    "5.1, 1.4\n",
    "4.9, 1.4\n",
    "4.7, 1.3\n",
    "4.6, 1.5\n",
    "```\n",
    "`CSVDataLoader.load_samples(samples.csv, ',', True)` -> [[5.1, 1.4], [4.9, 1.4], [4.7, 1.3], [4.6, 1.5]]\n",
    "\n",
    "`labels.csv`\n",
    "```\n",
    "# labels (0 = Iris-setosa, 1 = Iris-versicolor)\n",
    "0\n",
    "0\n",
    "0\n",
    "0\n",
    "```\n",
    "`CSVDataLoader.load_labels(labels.csv, ',', True)` -> [[0], [0], [0], [0]]"
   ]
  },
  {
   "cell_type": "code",
   "execution_count": 3,
   "metadata": {
    "pycharm": {
     "name": "#%%\n"
    }
   },
   "outputs": [],
   "source": [
    "class CSVDataLoader:\n",
    "\n",
    "    @staticmethod\n",
    "    def __load_data(path_to_csv_file, delimiter, discard_first_row):\n",
    "        with open(path_to_csv_file) as samples_csv_file:\n",
    "            data = csv.reader(samples_csv_file, delimiter=delimiter)\n",
    "\n",
    "            data_list = []\n",
    "            for row in data:\n",
    "                data_list.append(row)\n",
    "\n",
    "            if discard_first_row:\n",
    "                data_list.pop(0)\n",
    "\n",
    "            return data_list\n",
    "\n",
    "    @staticmethod\n",
    "    def load_samples(path_to_csv_file, delimiter, discard_first_row):\n",
    "        return np.array(CSVDataLoader.__load_data(path_to_csv_file, delimiter, discard_first_row), dtype=np.double)\n",
    "\n",
    "    @staticmethod\n",
    "    def load_labels(path_to_csv_file, delimiter, discard_first_row):\n",
    "        return np.array(CSVDataLoader.__load_data(path_to_csv_file, delimiter, discard_first_row), dtype=np.intc)\n"
   ]
  },
  {
   "cell_type": "markdown",
   "metadata": {},
   "source": [
    "### Normalización de datos.\n",
    "\n",
    "Ubicación: `simple_neural_network/utilities/normalization/normalization.py`\n",
    "\n",
    "Esta utilidad corresponde a un módulo encargado de la implementación de las diferentes funciones de normalización de datos.\n",
    "\n",
    "* Funciones:\n",
    "    * `z_score(data)`: recibe una lista de tipo `np.double` y devuelve otra lista de tipo `np.double` normalizada.\n",
    "     Esta función corresponde a la función de unidad tipificada (Z-score) `Z = (x - m) / d`,\n",
    "     donde cada muestra es restada y dividida por la media y la desviación típica del conjunto de datos respetivamente.\n",
    "\n",
    "    Parámetros:\n",
    "        * `data`: lista de tipo `np.double` correspondiente a los datos."
   ]
  },
  {
   "cell_type": "code",
   "execution_count": 4,
   "metadata": {
    "pycharm": {
     "name": "#%%\n"
    }
   },
   "outputs": [],
   "source": [
    "class Normalization:\n",
    "\n",
    "    @staticmethod\n",
    "    def z_score(data):\n",
    "        min_value = data.min()\n",
    "        max_value = data.max()\n",
    "        scaled_data = np.divide((data - min_value), (max_value - min_value))\n",
    "        return np.divide((scaled_data - scaled_data.mean()), scaled_data.std())\n"
   ]
  },
  {
   "cell_type": "markdown",
   "metadata": {},
   "source": [
    "### Sistema de impresión de mensajes.\n",
    "\n",
    "Ubicación: `simple_neural_network/utilities/logger/logger.py`\n",
    "\n",
    "En este paquete se implementarán las diferentes funciones encargadas de la impresión de los mensajes que se mostrarán por consola en el proceso de ejecución de la librería.\n",
    "\n",
    "* Funciones:\n",
    "    * `print_error_rate_message(epoch, misclassified_samples, samples, error_rate)`: formatea e imprime los datos entregados como parámetros en cada iteración del proceso de entrenamiento.\n",
    "\n",
    "    Parámetros:\n",
    "        * `epoch`: iteración actual.\n",
    "        * `misclassified_samples`: número de muestras mal clasificadas en la iteración actual.\n",
    "        * `samples`: número total de muestras de entrenamiento.\n",
    "        * `error_rate`: tasa de error cometida en la iteración actual."
   ]
  },
  {
   "cell_type": "code",
   "execution_count": 5,
   "metadata": {
    "pycharm": {
     "name": "#%%\n"
    }
   },
   "outputs": [],
   "source": [
    "class Logger:\n",
    "\n",
    "    @staticmethod\n",
    "    def print_error_rate_message(epoch, misclassified_samples, samples, error_rate):\n",
    "        print(ERROR_RATE.format(epoch=epoch, misclassified_samples=misclassified_samples,\n",
    "                                samples=samples, error_rate=error_rate))\n"
   ]
  },
  {
   "cell_type": "markdown",
   "metadata": {},
   "source": [
    "### Guardado y carga de sistemas neuronales.\n",
    "\n",
    "Ubicación: `simple_neural_network/utilities/neural_systems_picker/neural_systems_picker.py`\n",
    "\n",
    "Otra utilidad implementada es la de guardado y carga de sistemas neuronales. Para ello se definen dos métodos estáticos para el guardado y la carga de sistema neuronales en disco.\n",
    "Se puede observar como la extensión de los archivos queda definida en la constante `OBJECTS_SAVED_EXTENSION = '.snn'`.\n",
    "\n",
    "Esto nos permite reutilizar redes ya entrenenadas para hacer un uso más eficiente de las mismas.\n",
    "\n",
    "* Funciones:\n",
    "    * `save_neural_system(file_name, neural_system)`: función encargada de guardar el sistema neuronal pasado como parámetro en disco.\n",
    "\n",
    "    Parámetros:\n",
    "        * `file_name`: ruta al archivo `.snn` donde se guardará el sistema neuronal.\n",
    "        * `neural_system`: sistema neuronal a guardar.\n",
    "\n",
    "    * `load_neural_system(file_name)`: función encargada de cargar el archivo que se encuntra en la ruta `file_name` como un sistema neuronal en memoria.\n",
    "\n",
    "    Parámetros:\n",
    "        * `file_name`: ruta al archivo `.snn` que se dese cargar como sistema neuronal."
   ]
  },
  {
   "cell_type": "code",
   "execution_count": 6,
   "metadata": {
    "pycharm": {
     "name": "#%%\n"
    }
   },
   "outputs": [],
   "source": [
    "class NeuralSystemPicker:\n",
    "\n",
    "    @staticmethod\n",
    "    def save_neural_system(file_name, neural_system):\n",
    "        file = open(file_name + OBJECTS_SAVED_EXTENSION, 'wb')\n",
    "        pickle.dump(neural_system, file)\n",
    "\n",
    "    @staticmethod\n",
    "    def load_neural_system(file_name):\n",
    "        file = open(file_name, 'rb')\n",
    "        return pickle.load(file)\n"
   ]
  },
  {
   "cell_type": "markdown",
   "metadata": {},
   "source": [
    "## Funciones de activación.\n",
    "\n",
    "En este módulo se definen e implementan las diferentes funciones de activación que se ursarán en la librería.\n",
    "\n",
    "* `STEP_FUNCTION`: Función escalón.\n",
    "<img src=\"images/Step_function.png\" height=\"500\" width=\"500\"/>\n",
    "\n",
    "* `IDENTITY_FUNCTION`: Función identidad.\n",
    "<img src=\"images/Identity_function.png\" height=\"500\" width=\"500\"/>\n",
    "\n",
    "* `SIGMOID_FUNCTION`: Función sigmoide.\n",
    "<img src=\"images/Sigmoid_function.png\" height=\"500\" width=\"500\"/>\n",
    "\n",
    "### Enums.\n",
    "\n",
    "Ubicación: `simple_neural_network/activation_functions/activation_functions_enum.py`\n",
    "\n",
    "En este archivo se enumeran los diferentes tipos de funciones de activación. Esto nos permite una forma más cómoda de referenciarlas."
   ]
  },
  {
   "cell_type": "code",
   "execution_count": 7,
   "metadata": {
    "pycharm": {
     "name": "#%%\n"
    }
   },
   "outputs": [],
   "source": [
    "class ActivationFunctionsEnum(Enum):\n",
    "    STEP_FUNCTION = 1\n",
    "    IDENTITY_FUNCTION = 2\n",
    "    SIGMOID_FUNCTION = 3\n"
   ]
  },
  {
   "cell_type": "markdown",
   "metadata": {},
   "source": [
    "### Implementación.\n",
    "\n",
    "Ubicación: `simple_neural_network/activation_functions/activation_functions.py`\n",
    "\n",
    "En este archivo se implementan las difernetes funciones de activación.\n",
    "\n",
    "* Funciones:\n",
    "    * `step_function(x)`: implementación de la función escalón, recibe un valor de entrada y devuelv 0 ó 1.\n",
    "    * `identity_function(x)`: implementación de la función identidad, devuelve el mismo valor que recibe.\n",
    "    * `sigmoid_function(x)`: implementación de la función sigmoide, devuelve un valor comprendido entre (0, 1).\n",
    "\n",
    "    Parámetros:\n",
    "        * `x`: valor de entrada de la función de tipo `double` ."
   ]
  },
  {
   "cell_type": "code",
   "execution_count": 8,
   "metadata": {},
   "outputs": [],
   "source": [
    "class ActivationFunctions:\n",
    "\n",
    "    @staticmethod\n",
    "    def step_function(x):\n",
    "        return np.heaviside(x, ACTIVATION_FUNCTIONS.get('STEP_FUNCTION_VALUE'))\n",
    "\n",
    "    @staticmethod\n",
    "    def identity_function(x):\n",
    "        return x\n",
    "\n",
    "    @staticmethod\n",
    "    def sigmoid_function(x):\n",
    "        return 1 / (1 + np.exp(-x))\n"
   ]
  },
  {
   "cell_type": "markdown",
   "metadata": {},
   "source": [
    "## Funciones de medida del error.\n",
    "\n",
    "En este módulo se definen las diferentes funciones de medidad del error que se utilizarán en el algoritmo de _Backpropagation_\n",
    "\n",
    "### Enums.\n",
    "\n",
    "Ubicación: `simple_neural_network/loss_functions/loss_functions_enum.py`\n",
    "\n",
    "En este archivo se enumeran los diferentes tipos de funciones de medida del error. Esto nos permite una forma más cómoda de referenciarlas.\n",
    "\n",
    "En este caso la función `MSE_FUNCTION` es la del error cuadrático medio."
   ]
  },
  {
   "cell_type": "code",
   "execution_count": 9,
   "metadata": {
    "pycharm": {
     "name": "#%%\n"
    }
   },
   "outputs": [],
   "source": [
    "class LossFunctionsEnum(Enum):\n",
    "    MSE_FUNCTION = 1\n"
   ]
  },
  {
   "cell_type": "markdown",
   "metadata": {},
   "source": [
    "## Perceptrón\n",
    "\n",
    "Ubicación: `simple_neural_network/neuron/neuron.py`\n",
    "\n",
    "La clase `Neuron` es el elemento principal de esta librería, ya que formará parte de todos los sistemas neuronales que se definirán a continuación.\n",
    "\n",
    "Elementos que componen la clase neurona:\n",
    "\n",
    "* Constructor:\n",
    "    * `Neuron(number_of_inputs, activation_function)`: constructor de un objeto de tipo `Neuron`.\n",
    "\n",
    "        Parámetros:\n",
    "        * `number_of_inputs`: entero que indica el número de entradas de la neurona (dimensión de las muestras).\n",
    "        Al número de entradas se le añade una extra de valor igual a 1 que hace referencia a la constante que multiplica al bias de los pesos.\n",
    "        * `activation_function`: tipo de función de activación.\n",
    "\n",
    "* Aributos:\n",
    "    * `__weights`: representan los pesos de la neurona.\n",
    "    * `__activation_function`: hace referencia al tipo de función de activación definida para la neurona. Siendo un valor del enum `ActivationFunctionsEnum` definido anteriomente.\n",
    "\n",
    "* Funciones:\n",
    "    * `weights()`: consultor del atributo `__weights`.\n",
    "    * `weights(value)`: modificador del atributo `__weights`.\n",
    "\n",
    "        Parámetros:\n",
    "        * `value`: valor asigando al atributo `__weights`.\n",
    "\n",
    "    * `activation_function()`: consultor del atributo `__activation_function`. En este caso no se define un modificador ya que la creación de este atributo se realiza en el constructor\n",
    "    y no debe cambiar durante la ejecución del programa.\n",
    "    * `__calculate_propagation(input_values)`: función de propagación de los valores de entrada y los pesos de la neurona. En este caso se trata del producto escalar entre ambos vectores.\n",
    "    Es un método privado ya que solo debe hacer uso de este la función `calculate_output(input_values)`.\n",
    "\n",
    "        Parámetros:\n",
    "        * `input_values`: valores de entrada (muestra) sobre los que aplicar la regla de propagación junto a los pesos de la neurona.\n",
    "\n",
    "    * `calculate_output(input_values)`: función de activación de la neurona, encargada de calcular la salida de esta en función del tipo de función de activación definida en el constructor.\n",
    "\n",
    "        Parámetros:\n",
    "        * `input_values`: valores de entrada (muestra) sobre los que obtener el valor de salida por la neurona."
   ]
  },
  {
   "cell_type": "code",
   "execution_count": 10,
   "metadata": {},
   "outputs": [],
   "source": [
    "class Neuron:\n",
    "\n",
    "    def __init__(self, number_of_inputs, activation_function):\n",
    "        self.__weights = np.random.randn(number_of_inputs + 1)\n",
    "        self.__activation_function = activation_function\n",
    "\n",
    "    @property\n",
    "    def weights(self):\n",
    "        return self.__weights\n",
    "\n",
    "    @weights.setter\n",
    "    def weights(self, value):\n",
    "        self.__weights = value\n",
    "\n",
    "    @property\n",
    "    def activation_function(self):\n",
    "        return self.__activation_function\n",
    "\n",
    "    def __calculate_propagation(self, input_values):\n",
    "        return np.dot(self.weights, input_values)\n",
    "\n",
    "    def calculate_output(self, input_values):\n",
    "        input_values = np.append(1, input_values)\n",
    "        if self.activation_function is ActivationFunctionsEnum.STEP_FUNCTION:\n",
    "            return ActivationFunctions.step_function(self.__calculate_propagation(input_values))\n",
    "        elif self.activation_function is ActivationFunctionsEnum.IDENTITY_FUNCTION:\n",
    "            return ActivationFunctions.identity_function(self.__calculate_propagation(input_values))\n",
    "        elif self.activation_function is ActivationFunctionsEnum.SIGMOID_FUNCTION:\n",
    "            return ActivationFunctions.sigmoid_function(self.__calculate_propagation(input_values))\n"
   ]
  },
  {
   "cell_type": "markdown",
   "metadata": {},
   "source": [
    "## Sistemas de clasificación\n",
    "### Clasificador binario\n",
    "\n",
    "Ubicación: `simple_neural_network/neural_systems/binary_classifier/binary_classifier.py`\n",
    "\n",
    "Es el primer sistema neuronal definido dado que es el más básico y el que menos elementos requiere. Este sistema es capaz de definir una frontera lineal entre dos clases.\n",
    "\n",
    "Elementos que componen al clasificador binario:\n",
    "\n",
    "* Constructor:\n",
    "    * `BinaryClassifier(number_of_inputs)`: constructor de un objeto de tipo `BinaryClassifier`.\n",
    "\n",
    "        Parámetros:\n",
    "        * `number_of_inputs`: entero que indica el número de entradas de la neurona (dimensión de las muestras).\n",
    "\n",
    "* Atributos:\n",
    "    * `__neuron`: atributo de tipo `Neuron` definido anteriormente, es el encargado de realizar la clasificación y el objeto de entrenamiento.\n",
    "    * `__learning_rate`: atributo que define la velocidad de aprendizaje del algoritmo, valores próximos a cero suponen convergencias más suaves pero con más iteraciones.\n",
    "    * `__max_epochs`: atributo que define la cantidad máxima de iteraciones que realizará el algoritmo en caso de que las muestras no sean linealmente separables.\n",
    "    * `__misclassified_samples_per_epoch`: es una lista donde cada elemento corresponde al número de muestras mal clasificadas en la iteración pos + 1 de la lista.\n",
    "    Es decir `__misclassified_samples_per_epoch[x]` corresponde al número de muestras mal clasificadas en la iteración x + 1.\n",
    "\n",
    "* Funciones:\n",
    "    * `learning_rate()`: consultor del atributo `__learning_rate`. En este caso no se define un modificador ya que la definición de este atributo se realiza en el método `train(samples, labels, learning_rate, max_epochs)`\n",
    "    y no debe cambiar durante la ejecución.\n",
    "    * `max_epochs()`: consultor del atributo `__max_epochs`. En este caso no se define un modificador ya que la definición de este atributo se realiza en el método `train(samples, labels, learning_rate, max_epochs)`\n",
    "    y no debe cambiar durante la ejecución.\n",
    "    * `misclassified_samples_per_epoch()`: consultor del atributo `__misclassified_samples_per_epoch`. En este caso no se define un modificador ya que este atributo se genera en tiempo de ejecución.\n",
    "    * `epochs()`: esta función nos devuelve el número total iteraciones realizadas durante el proceso de entrenamiento. Su valor se obtiene de la dimensión del atributo `__misclassified_samples_per_epoch`.\n",
    "    * `weights()`: consultor del atributo `__neuron.weights()` definido en la clase `Neuron`.\n",
    "    * `train(samples, labels, learning_rate, max_epochs)`: función encargada de realizar el entrenamiento del sistema, el algoritmo utilizado es el del perceptrón con la modalidad del atributo rate para la velocidad de entrenamiento.\n",
    "\n",
    "        Parámetros:\n",
    "        * `samples`: un `np.array` de tipo `np.double` para las muestras.\n",
    "        * `labels`: un `np.array` de tipo `np.intc` para las etiquetas.\n",
    "        Las muestras tendrán una dimensión NxM y las etiquetas Nx1 donde N hace referencia al número de muestras, M a la dimensión de las misma y donde la etiqueta label[x] es la correspondiente a la muestra sample[x].\n",
    "        * `learning_rate`: velocidad de aprendizaje del algoritmo; por defecto su valor es 1 `BINARY_CLASSIFIER.get('LEARNING_RATE_DEFAULT_VALUE')`.\n",
    "        * `max_epochs`: número máximo de iteraciones del algoritmo; por defecto su valor es 10 `BINARY_CLASSIFIER.get('MAX_EPOCHS_DEFAULT_VALUE')`.\n",
    "\n",
    "    Se puede observar como el algoritmo se ejecuta hasta que o bien haya clasificado correctamente todas las muestras en una misma iteración o se alcance el máximo número de iteraciones.\n",
    "\n",
    "    * `classify(sample)`: función encargada de clasificar una muestra, de vuelve 0 o 1.\n",
    "\n",
    "        Parámetros:\n",
    "        * `sample`: un `np.array` de tipo `np.double` que representa una a una muestra.\n",
    "\n",
    "    * `calculate_error_rate(samples, labels):`: función encargada de calcular la tasa de error cometida por el sistema al clasificar las muestras entregadas como parámetros con sus respectivas etiquetas.\n",
    "\n",
    "        Parámetros:\n",
    "        * `samples`: un `np.array` de tipo `np.double` para las muestras.\n",
    "        * `labels`: un `np.array` de tipo `np.intc` para las etiquetas.\n",
    "        Las muestras tendrán una dimensión NxM y las etiquetas Nx1 donde N hace referencia al número de muestras, M a la dimensión de las misma y donde la etiqueta label[x] es la correspondiente a la muestra sample[x]."
   ]
  },
  {
   "cell_type": "code",
   "execution_count": 11,
   "metadata": {},
   "outputs": [],
   "source": [
    "class BinaryClassifier:\n",
    "\n",
    "    def __init__(self, number_of_inputs):\n",
    "        self.__neuron = Neuron(number_of_inputs, ActivationFunctionsEnum.STEP_FUNCTION)\n",
    "        self.__learning_rate = BINARY_CLASSIFIER.get('LEARNING_RATE_DEFAULT_VALUE')\n",
    "        self.__max_epochs = BINARY_CLASSIFIER.get('MAX_EPOCHS_DEFAULT_VALUE')\n",
    "        self.__misclassified_samples_per_epoch = []\n",
    "\n",
    "    @property\n",
    "    def learning_rate(self):\n",
    "        return self.__learning_rate\n",
    "\n",
    "    @property\n",
    "    def max_epochs(self):\n",
    "        return self.__max_epochs\n",
    "\n",
    "    @property\n",
    "    def misclassified_samples_per_epoch(self):\n",
    "        return self.__misclassified_samples_per_epoch\n",
    "\n",
    "    @property\n",
    "    def epochs(self):\n",
    "        return len(self.__misclassified_samples_per_epoch)\n",
    "\n",
    "    @property\n",
    "    def weights(self):\n",
    "        return self.__neuron.weights\n",
    "\n",
    "    def train(self, samples, labels, learning_rate=BINARY_CLASSIFIER.get('LEARNING_RATE_DEFAULT_VALUE'),\n",
    "              max_epochs=BINARY_CLASSIFIER.get('MAX_EPOCHS_DEFAULT_VALUE')):\n",
    "        self.__learning_rate = learning_rate\n",
    "        self.__max_epochs = max_epochs\n",
    "        epoch = 0\n",
    "\n",
    "        while True:\n",
    "            well_classified_samples = 0\n",
    "            misclassified_samples = 0\n",
    "\n",
    "            for sample, label in zip(samples, labels):\n",
    "                error = label - self.__neuron.calculate_output(sample)\n",
    "                if error != 0:\n",
    "                    self.__neuron.weights += (self.learning_rate * error * np.append(1, sample))\n",
    "                    misclassified_samples += 1\n",
    "                else:\n",
    "                    well_classified_samples += 1\n",
    "\n",
    "            epoch += 1\n",
    "            self.misclassified_samples_per_epoch.append(misclassified_samples)\n",
    "            Logger.print_error_rate_message(epoch, misclassified_samples, len(samples),\n",
    "                                            (misclassified_samples / len(samples)))\n",
    "\n",
    "            if epoch == self.max_epochs or well_classified_samples == samples.shape[0]:\n",
    "                break\n",
    "\n",
    "    def classify(self, sample):\n",
    "        return self.__neuron.calculate_output(sample)\n",
    "\n",
    "    def calculate_error_rate(self, samples, labels):\n",
    "        errors = 0\n",
    "\n",
    "        for sample, label in zip(samples, labels):\n",
    "            if self.classify(sample) != label[0]:\n",
    "                errors += 1\n",
    "\n",
    "        return errors / len(labels)\n"
   ]
  },
  {
   "cell_type": "markdown",
   "metadata": {},
   "source": [
    "#### Ejemplo de uso del clasificador binario\n",
    "\n",
    "Ubicación: `usage_binary_classifier.py`\n",
    "\n",
    "Uso: `python src/usage_binary_classifier.py`\n",
    "\n",
    "En este archivo se realiza un ejemplo de uso del clasificador binario con un set de datos real como es el de iris-setosa e iris-versicolor.\n",
    "Se dispone de cuatro archivos .csv en el directorio `/data/iris_virginica` estos archivos contienen la longitud de pétalos y sépalos de cada tipo de flor y su clase:\n",
    "\n",
    "* `iris_virginica_train_60_samples.csv` e `iris_virginica_train_60_labels.csv` son las muestras y etiquetas utilizadas para el entrenamiento del sistema.\n",
    "* `iris_virginica_test_40_samples.csv` e `iris_virginica_test_40_labels.csv` son las muestras y etiquetas utilizadas para obtener la tasa de error obtenido por el sistema una vez entrenado.\n",
    "\n",
    "En primer lugar se cargan los datos `train_samples`, `train_labels`, `train_labels` y `test_labels` haciendo uso de `CSVData`.\n",
    "\n",
    "Instanciamos un `BinaryClassifier(train_samples.shape[1])`, donde `train_samples.shape[1] = dimensión de la primera muestra = 2` y lo entrenamos con `binary_classifier.train(train_samples, train_labels, 0.8, 20)` con un `rate = 0.8` y `max_iterations = 20`.\n",
    "\n",
    "Tras entrenar el sistema y a modo de ejemplo, lo guardamos en disco `NeuralSystemsPicker.save_neural_system('./serialized_objects/binary_classifier', binary_classifier)`\n",
    "y lo volvemos a cargar `binary_classifier = NeuralSystemsPicker.load_neural_system('./serialized_objects/binary_classifier.snn')`.\n",
    "\n",
    "Calculamos la tasa error obtenido por el sistema haciendo uso de la función `binary_classifier.calculate_error(test_samples, test_labels)` y lo mostramos por consola.\n",
    "\n",
    "Por último representamos los datos obtenidos:\n",
    "* En primer lugar imprimimos las muestras y la intersección del hiperplano generado por el clasificador con el plano XY para Z = 0.\n",
    "* Por último imprimimos el número de errores por iteración obtenidos durante el entrenamiento."
   ]
  },
  {
   "cell_type": "code",
   "execution_count": 12,
   "metadata": {
    "pycharm": {
     "name": "#%%\n"
    }
   },
   "outputs": [
    {
     "name": "stdout",
     "output_type": "stream",
     "text": [
      "Epoch 1: 2 misclassified samples out of 60 -> error rate = 0.03\n",
      "Epoch 2: 2 misclassified samples out of 60 -> error rate = 0.03\n",
      "Epoch 3: 3 misclassified samples out of 60 -> error rate = 0.05\n",
      "Epoch 4: 2 misclassified samples out of 60 -> error rate = 0.03\n",
      "Epoch 5: 1 misclassified samples out of 60 -> error rate = 0.02\n",
      "Epoch 6: 0 misclassified samples out of 60 -> error rate = 0.00\n",
      "0.0\n"
     ]
    },
    {
     "data": {
      "image/png": "[encoded data removed]",
      "text/plain": [
       "<Figure size 432x288 with 1 Axes>"
      ]
     },
     "metadata": {
      "needs_background": "light"
     },
     "output_type": "display_data"
    },
    {
     "data": {
      "image/png": "[encoded data removed]",
      "text/plain": [
       "<Figure size 432x288 with 1 Axes>"
      ]
     },
     "metadata": {
      "needs_background": "light"
     },
     "output_type": "display_data"
    }
   ],
   "source": [
    "train_samples = CSVDataLoader.load_samples('./data/iris_virginica/iris_virginica_train_60_samples.csv', ',', True)\n",
    "train_labels = CSVDataLoader.load_labels('./data/iris_virginica/iris_virginica_train_60_labels.csv', ',', True)\n",
    "test_samples = CSVDataLoader.load_samples('./data/iris_virginica/iris_virginica_train_60_samples.csv', ',', True)\n",
    "test_labels = CSVDataLoader.load_labels('./data/iris_virginica/iris_virginica_train_60_labels.csv', ',', True)\n",
    "\n",
    "binary_classifier = BinaryClassifier(train_samples.shape[1])\n",
    "binary_classifier.train(train_samples, train_labels, 0.8, 20)\n",
    "\n",
    "NeuralSystemPicker.save_neural_system('./serialized_objects/binary_classifier', binary_classifier)\n",
    "binary_classifier = NeuralSystemPicker.load_neural_system('./serialized_objects/binary_classifier.snn')\n",
    "\n",
    "print(binary_classifier.calculate_error_rate(test_samples, test_labels))\n",
    "\n",
    "plt.scatter(np.array(train_samples[:30, 0]), np.array(train_samples[:30, 1]), marker='o', label='Setosa')\n",
    "plt.scatter(np.array(train_samples[30:, 0]), np.array(train_samples[30:, 1]), marker='x', label='Versicolor')\n",
    "plt.xlabel('Petal length')\n",
    "plt.ylabel('Sepal length')\n",
    "plt.legend()\n",
    "\n",
    "weights = binary_classifier.weights\n",
    "x = np.linspace(4, 7.5, 100)\n",
    "y = (-1) * (weights[1] * x + weights[0]) / weights[2]\n",
    "plt.plot(x, y, '-r', linewidth=2)\n",
    "\n",
    "axes = plt.gca()\n",
    "axes.set_xlim(4, 7.5)\n",
    "axes.set_ylim(0.5, 5.5)\n",
    "plt.show()\n",
    "\n",
    "plt.plot(binary_classifier.misclassified_samples_per_epoch)\n",
    "plt.axis([0, 6, 0, 5])\n",
    "plt.ylabel('Miss classified samples')\n",
    "plt.xlabel('Iteration')\n",
    "plt.show()\n"
   ]
  },
  {
   "cell_type": "markdown",
   "metadata": {},
   "source": [
    "### Clasificador multiclase\n",
    "\n",
    "Ubicación: `simple_neural_network/neural_systems/multiclass_classifier/multiclass_classifier.py`\n",
    "\n",
    "Este sistema es capaz de clasificar una serie de muestras en N clases diferentes, haciendo uso de N neuronas para ello.\n",
    "Al igual que ocurría con el clasificador binario, la frontera de decisión entre dos clases sigue siendo lineal.\n",
    "\n",
    "Elementos que componen al clasificador binario:\n",
    "\n",
    "* Constructor:\n",
    "    * `MulticlassClassifier(number_of_inputs, number_of_classes)`: constructor de un objeto de tipo `MulticlassClassifier`.\n",
    "\n",
    "        Parámetros:\n",
    "        * `number_of_inputs`: entero que indica el número de entradas de la neurona (dimensión de las muestras).\n",
    "        * `number_of_classes`: entero que indica el número de clases del sistema.\n",
    "\n",
    "* Atributos:\n",
    "    * `__number_of_classes`: atributo de tipo entero que indica el número de clases del sistema.\n",
    "    * `__neurons`: lista con objetos de tipo `Neuron` cuya dimensión es igual al número de clases del sistema.\n",
    "    Cada una de estas neuronas será la responsable de realizar la clasificación de cada muestra en cada una de las diferentes clases.\n",
    "    * `__learning_rate`: atributo que define la velocidad de aprendizaje del algoritmo, valores próximos a cero suponen convergencias más suaves pero con más iteraciones.\n",
    "    * `__max_epochs`: atributo que define la cantidad máxima de iteraciones que realizará el algoritmo en caso de que las muestras no sean linealmente separables.\n",
    "    * `__miss_classified_samples_per_epoch`: es una lista donde cada elemento corresponde al número de muestras mal clasificadas en la iteración pos + 1 de la lista.\n",
    "    Es decir `__miss_classified_samples_per_epoch[x]` corresponde al número de muestras mal clasificadas en la iteración x + 1.\n",
    "\n",
    "* Funciones:\n",
    "    * `number_of_classes()`: consultor del atributo `__number_of_classes`. En este caso no se define un modificador ya que la definición de este atributo se realiza en el constructor y no debe cambiar durante la ejecución.\n",
    "    * `learning_rate()`: consultor del atributo `__learning_rate`. En este caso no se define un modificador ya que la definición de este atributo se realiza en el método `train(samples, labels, learning_rate, max_epochs)` y no debe cambiar durante la ejecución.\n",
    "    * `max_epochs()`: consultor del atributo `__max_epochs`. En este caso no se define un modificador ya que la definición de este atributo se realiza en el método `train(samples, labels, learning_rate, max_epochs)` y no debe cambiar durante la ejecución.\n",
    "    * `miss_classified_samples_per_epoch()`: consultor del atributo `__miss_classified_samples_per_epoch`. En este caso no se define un modificador ya que este atributo se genera en tiempo de ejecución.\n",
    "    * `iterations()`: esta función nos devuelve el número total iteraciones realizadas durante el proceso de entrenamiento. Su valor se obtiene de la dimensión del atributo `__miss_classified_samples_per_epoch`.\n",
    "    * `weights()`: devuelve una lista con los pesos de cada una de las neuronas del atributo `__neurons`.\n",
    "    * `train(samples, labels, learning_rate, max_epochs)`: función encargada de realizar el entrenamiento del sistema, el algoritmo utilizado es el del perceptrón con la modalidad del atributo rate para la velocidad de entrenamiento.\n",
    "\n",
    "        Parámetros:\n",
    "        * `samples`: un `np.array` de tipo `np.double` para las muestras.\n",
    "        * `labels`: un `np.array` de tipo `np.intc` para las etiquetas.\n",
    "        Las muestras tendrán una dimensión NxM y las etiquetas Nx1 donde N hace referencia al número de muestras, M a la dimensión de las misma y donde la etiqueta label[x] es la correspondiente a la muestra sample[x].\n",
    "        * `learning_rate`: velocidad de aprendizaje del algoritmo; por defecto su valor es 1 `MULTICLASS_CLASSIFIER.get('LEARNING_RATE_DEFAULT_VALUE')`.\n",
    "        * `max_epochs`: número máximo de iteraciones del algoritmo; por defecto su valor es 10 `MULTICLASS_CLASSIFIER.get('MAX_EPOCHS_DEFAULT_VALUE')`.\n",
    "\n",
    "    El algoritmo corrige tanto los pesos de cada neurona que provoca error como el de la neurona que debría haber clasificado correctamente la muestra.\n",
    "    Este algoritmo se ejecuta hasta que o bien haya clasificado correctamente todas las muestras en una misma iteración o se alcance el máximo número de iteraciones.\n",
    "\n",
    "    * `classify(sample)`: función encargada de clasificar una muestra, de vuelve un valor c perteneciente al conjunto {1, ..., C}, siendo C el número de clases.\n",
    "\n",
    "        Parámetros:\n",
    "        * `sample`: un `np.array` de tipo `np.double` que representa una a una muestra.\n",
    "\n",
    "    * `calculate_error_rate(samples, labels):`: función encargada de calcular la tasa de error cometida por el sistema al clasificar las muestras entregadas como parámetros con sus respectivas etiquetas.\n",
    "\n",
    "        Parámetros:\n",
    "        * `samples`: un `np.array` de tipo `np.double` para las muestras.\n",
    "        * `labels`: un `np.array` de tipo `np.intc` para las etiquetas.\n",
    "        Las muestras tendrán una dimensión NxM y las etiquetas Nx1 donde N hace referencia al número de muestras, M a la dimensión de las misma y donde la etiqueta label[x] es la correspondiente a la muestra sample[x]."
   ]
  },
  {
   "cell_type": "code",
   "execution_count": 13,
   "metadata": {
    "pycharm": {
     "name": "#%%\n"
    }
   },
   "outputs": [],
   "source": [
    "class MulticlassClassifier:\n",
    "\n",
    "    def __init__(self, number_of_inputs, number_of_classes):\n",
    "        self.__number_of_classes = number_of_classes\n",
    "        self.__neurons = [Neuron(number_of_inputs, ActivationFunctionsEnum.IDENTITY_FUNCTION)\n",
    "                          for _ in range(number_of_classes)]\n",
    "        self.__learning_rate = MULTICLASS_CLASSIFIER.get('LEARNING_RATE_DEFAULT_VALUE')\n",
    "        self.__max_epochs = MULTICLASS_CLASSIFIER.get('MAX_EPOCHS_DEFAULT_VALUE')\n",
    "        self.__misclassified_samples_per_epoch = []\n",
    "\n",
    "    @property\n",
    "    def number_of_classes(self):\n",
    "        return self.__number_of_classes\n",
    "\n",
    "    @property\n",
    "    def learning_rate(self):\n",
    "        return self.__learning_rate\n",
    "\n",
    "    @property\n",
    "    def max_epochs(self):\n",
    "        return self.__max_epochs\n",
    "\n",
    "    @property\n",
    "    def misclassified_samples_per_epoch(self):\n",
    "        return self.__misclassified_samples_per_epoch\n",
    "\n",
    "    @property\n",
    "    def epochs(self):\n",
    "        return len(self.__misclassified_samples_per_epoch)\n",
    "\n",
    "    @property\n",
    "    def weights(self):\n",
    "        return [neuron.weights for neuron in self.__neurons]\n",
    "\n",
    "    def train(self, samples, labels, learning_rate=MULTICLASS_CLASSIFIER.get('LEARNING_RATE_DEFAULT_VALUE'),\n",
    "              max_epochs=MULTICLASS_CLASSIFIER.get('MAX_EPOCHS_DEFAULT_VALUE')):\n",
    "        self.__learning_rate = learning_rate\n",
    "        self.__max_epochs = max_epochs\n",
    "        epoch = 0\n",
    "\n",
    "        while True:\n",
    "            well_classified_samples = 0\n",
    "            misclassified_samples = 0\n",
    "\n",
    "            for sample, label in zip(samples, labels):\n",
    "\n",
    "                well_classifier_value = self.__neurons[label[0]].calculate_output(sample)\n",
    "                error = False\n",
    "\n",
    "                for classifier in [classifier for classifier in range(self.number_of_classes)\n",
    "                                   if classifier != label[0]]:\n",
    "                    wrong_classifier_value = self.__neurons[classifier].calculate_output(sample)\n",
    "\n",
    "                    if wrong_classifier_value > well_classifier_value:\n",
    "                        self.__neurons[classifier].weights -= (self.learning_rate * np.append(1, sample))\n",
    "                        error = True\n",
    "\n",
    "                    if error:\n",
    "                        self.__neurons[label[0]].weights += (self.learning_rate * np.append(1, sample))\n",
    "\n",
    "                if error:\n",
    "                    misclassified_samples += 1\n",
    "                else:\n",
    "                    well_classified_samples += 1\n",
    "\n",
    "            epoch += 1\n",
    "            self.misclassified_samples_per_epoch.append(misclassified_samples)\n",
    "            Logger.print_error_rate_message(epoch, misclassified_samples, len(samples),\n",
    "                                            (misclassified_samples / len(samples)))\n",
    "\n",
    "            if epoch == self.max_epochs or well_classified_samples == samples.shape[0]:\n",
    "                break\n",
    "\n",
    "    def classify(self, sample):\n",
    "        results = [neuron.calculate_output(sample) for neuron in self.__neurons]\n",
    "        return results.index(max(results))\n",
    "\n",
    "    def calculate_error_rate(self, samples, labels):\n",
    "        errors = 0\n",
    "\n",
    "        for sample, label in zip(samples, labels):\n",
    "            if self.classify(sample) != label[0]:\n",
    "                errors += 1\n",
    "\n",
    "        return errors / len(labels)\n"
   ]
  },
  {
   "cell_type": "markdown",
   "metadata": {},
   "source": [
    "#### Ejemplo de uso del clasificador multiclase\n",
    "\n",
    "Ubicación: `usage_multiclass_classifer.py`\n",
    "\n",
    "Uso: `python src/usage_multiclass_classifer.py`\n",
    "\n",
    "En este archivo se realiza un ejemplo de uso del clasificador multiclase con un set de datos real como es el de mnist.\n",
    "Se dispone de cuatro archivos .csv en el directorio `/data/mnist` estos archivos contienen los valores de las imágenes de 28 x 28 píxeles en escala de grises de los dígitos manuscritos comprendidos entre el 0 y el 9, ambos inclusive:\n",
    "\n",
    "* `mnist_train_40K_samples.csv` e `mnist_train_40K_labels.csv` son las muestras y etiquetas utilizadas para el entrenamiento del sistema.\n",
    "* `mnist_test_10K_samples.csv` e `mnist_test_10K_labels.csv` son las muestras y etiquetas utilizadas para obtener la tasa de error obtenido por el sistema una vez entrenado.\n",
    "\n",
    "En primer lugar se cargan los datos `train_samples`, `train_labels`, `train_labels` y `test_labels` haciendo uso de `CSVData`.\n",
    "\n",
    "Instanciamos un `MulticlassClassifier(train_samples.shape[1], 10)`, donde `train_samples.shape[1] = dimensión de la primera muestra = 784` y `10` es el número de clases diferentes\n",
    "Entrenamos el sistema con `multiclass_classifier.train(train_samples, train_labels)`. Nótese como en este caso no se indican los valores para los parámetros `learning_rate` y `max_epochs`,\n",
    "tomándose los valores por defecto 1 y 10 respectivamente.\n",
    "\n",
    "Calculamos la tasa de error obtenida por el sistema haciendo uso de la función `multiclass_classifier.calculate_error(test_samples, test_labels)` y lo mostramos por consola."
   ]
  },
  {
   "cell_type": "code",
   "execution_count": 1,
   "metadata": {
    "pycharm": {
     "name": "#%%\n"
    }
   },
   "outputs": [
    {
     "ename": "NameError",
     "evalue": "name 'CSVDataLoader' is not defined",
     "output_type": "error",
     "traceback": [
      "\u001b[0;31m---------------------------------------------------------------------------\u001b[0m",
      "\u001b[0;31mNameError\u001b[0m                                 Traceback (most recent call last)",
      "\u001b[0;32m<ipython-input-1-3019b5bb0714>\u001b[0m in \u001b[0;36m<module>\u001b[0;34m\u001b[0m\n\u001b[0;32m----> 1\u001b[0;31m \u001b[0mtrain_samples\u001b[0m \u001b[0;34m=\u001b[0m \u001b[0mCSVDataLoader\u001b[0m\u001b[0;34m.\u001b[0m\u001b[0mload_samples\u001b[0m\u001b[0;34m(\u001b[0m\u001b[0;34m'./data/mnist/mnist_train_40K_samples.csv'\u001b[0m\u001b[0;34m,\u001b[0m \u001b[0;34m';'\u001b[0m\u001b[0;34m,\u001b[0m \u001b[0;32mFalse\u001b[0m\u001b[0;34m)\u001b[0m\u001b[0;34m\u001b[0m\u001b[0;34m\u001b[0m\u001b[0m\n\u001b[0m\u001b[1;32m      2\u001b[0m \u001b[0mtrain_labels\u001b[0m \u001b[0;34m=\u001b[0m \u001b[0mCSVDataLoader\u001b[0m\u001b[0;34m.\u001b[0m\u001b[0mload_labels\u001b[0m\u001b[0;34m(\u001b[0m\u001b[0;34m'./data/mnist/mnist_train_40K_labels.csv'\u001b[0m\u001b[0;34m,\u001b[0m \u001b[0;34m';'\u001b[0m\u001b[0;34m,\u001b[0m \u001b[0;32mFalse\u001b[0m\u001b[0;34m)\u001b[0m\u001b[0;34m\u001b[0m\u001b[0;34m\u001b[0m\u001b[0m\n\u001b[1;32m      3\u001b[0m \u001b[0mtest_samples\u001b[0m \u001b[0;34m=\u001b[0m \u001b[0mCSVDataLoader\u001b[0m\u001b[0;34m.\u001b[0m\u001b[0mload_samples\u001b[0m\u001b[0;34m(\u001b[0m\u001b[0;34m'./data/mnist/mnist_test_10K_samples.csv'\u001b[0m\u001b[0;34m,\u001b[0m \u001b[0;34m';'\u001b[0m\u001b[0;34m,\u001b[0m \u001b[0;32mFalse\u001b[0m\u001b[0;34m)\u001b[0m\u001b[0;34m\u001b[0m\u001b[0;34m\u001b[0m\u001b[0m\n\u001b[1;32m      4\u001b[0m \u001b[0mtest_labels\u001b[0m \u001b[0;34m=\u001b[0m \u001b[0mCSVDataLoader\u001b[0m\u001b[0;34m.\u001b[0m\u001b[0mload_labels\u001b[0m\u001b[0;34m(\u001b[0m\u001b[0;34m'./data/mnist/mnist_test_10K_labels.csv'\u001b[0m\u001b[0;34m,\u001b[0m \u001b[0;34m';'\u001b[0m\u001b[0;34m,\u001b[0m \u001b[0;32mFalse\u001b[0m\u001b[0;34m)\u001b[0m\u001b[0;34m\u001b[0m\u001b[0;34m\u001b[0m\u001b[0m\n\u001b[1;32m      5\u001b[0m \u001b[0;34m\u001b[0m\u001b[0m\n",
      "\u001b[0;31mNameError\u001b[0m: name 'CSVDataLoader' is not defined"
     ]
    }
   ],
   "source": [
    "train_samples = CSVDataLoader.load_samples('./data/mnist/mnist_train_40K_samples.csv', ';', False)\n",
    "train_labels = CSVDataLoader.load_labels('./data/mnist/mnist_train_40K_labels.csv', ';', False)\n",
    "test_samples = CSVDataLoader.load_samples('./data/mnist/mnist_test_10K_samples.csv', ';', False)\n",
    "test_labels = CSVDataLoader.load_labels('./data/mnist/mnist_test_10K_labels.csv', ';', False)\n",
    "\n",
    "train_samples_normalized = Normalization.z_score(train_samples)\n",
    "test_samples_normalized = Normalization.z_score(test_samples)\n",
    "\n",
    "multiclass_classifier = MulticlassClassifier(train_samples.shape[1], 10)\n",
    "multiclass_classifier.train(train_samples_normalized, train_labels)\n",
    "\n",
    "NeuralSystemPicker.save_neural_system('./serialized_objects/multiclass_classifier', multiclass_classifier)\n",
    "multiclass_classifier = NeuralSystemPicker.load_neural_system('./serialized_objects/multiclass_classifier.snn')\n",
    "\n",
    "print(multiclass_classifier.calculate_error_rate(test_samples_normalized, test_labels))\n"
   ]
  },
  {
   "cell_type": "code",
   "execution_count": null,
   "metadata": {},
   "outputs": [],
   "source": []
  }
 ],
 "metadata": {
  "kernelspec": {
   "display_name": "Python 3",
   "language": "python",
   "name": "python3"
  },
  "language_info": {
   "codemirror_mode": {
    "name": "ipython",
    "version": 3
   },
   "file_extension": ".py",
   "mimetype": "text/x-python",
   "name": "python",
   "nbconvert_exporter": "python",
   "pygments_lexer": "ipython3",
   "version": "3.7.5"
  }
 },
 "nbformat": 4,
 "nbformat_minor": 2
}
